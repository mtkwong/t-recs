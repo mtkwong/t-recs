{
 "cells": [
  {
   "cell_type": "code",
   "execution_count": 5,
   "metadata": {},
   "outputs": [],
   "source": [
    "import pandas as pd\n",
    "import numpy as np"
   ]
  },
  {
   "cell_type": "code",
   "execution_count": 6,
   "metadata": {},
   "outputs": [
    {
     "data": {
      "text/html": [
       "<div>\n",
       "<style scoped>\n",
       "    .dataframe tbody tr th:only-of-type {\n",
       "        vertical-align: middle;\n",
       "    }\n",
       "\n",
       "    .dataframe tbody tr th {\n",
       "        vertical-align: top;\n",
       "    }\n",
       "\n",
       "    .dataframe thead th {\n",
       "        text-align: right;\n",
       "    }\n",
       "</style>\n",
       "<table border=\"1\" class=\"dataframe\">\n",
       "  <thead>\n",
       "    <tr style=\"text-align: right;\">\n",
       "      <th></th>\n",
       "      <th>gPlusPlaceId</th>\n",
       "      <th>gPlusUserId</th>\n",
       "      <th>rating</th>\n",
       "      <th>unixReviewTime</th>\n",
       "    </tr>\n",
       "  </thead>\n",
       "  <tbody>\n",
       "    <tr>\n",
       "      <th>0</th>\n",
       "      <td>105894249799494761247</td>\n",
       "      <td>100002060409135193563</td>\n",
       "      <td>5.0</td>\n",
       "      <td>1360448580</td>\n",
       "    </tr>\n",
       "    <tr>\n",
       "      <th>1</th>\n",
       "      <td>100365639541523416633</td>\n",
       "      <td>100002460517064340398</td>\n",
       "      <td>5.0</td>\n",
       "      <td>1246154310</td>\n",
       "    </tr>\n",
       "    <tr>\n",
       "      <th>2</th>\n",
       "      <td>101130870726907537579</td>\n",
       "      <td>100002460517064340398</td>\n",
       "      <td>5.0</td>\n",
       "      <td>1364055389</td>\n",
       "    </tr>\n",
       "    <tr>\n",
       "      <th>3</th>\n",
       "      <td>116343726288101618746</td>\n",
       "      <td>100002623910816163819</td>\n",
       "      <td>4.0</td>\n",
       "      <td>1385074891</td>\n",
       "    </tr>\n",
       "    <tr>\n",
       "      <th>4</th>\n",
       "      <td>100887731203541266259</td>\n",
       "      <td>100003840837471130074</td>\n",
       "      <td>4.0</td>\n",
       "      <td>1302881969</td>\n",
       "    </tr>\n",
       "  </tbody>\n",
       "</table>\n",
       "</div>"
      ],
      "text/plain": [
       "            gPlusPlaceId            gPlusUserId  rating unixReviewTime\n",
       "0  105894249799494761247  100002060409135193563     5.0     1360448580\n",
       "1  100365639541523416633  100002460517064340398     5.0     1246154310\n",
       "2  101130870726907537579  100002460517064340398     5.0     1364055389\n",
       "3  116343726288101618746  100002623910816163819     4.0     1385074891\n",
       "4  100887731203541266259  100003840837471130074     4.0     1302881969"
      ]
     },
     "execution_count": 6,
     "metadata": {},
     "output_type": "execute_result"
    }
   ],
   "source": [
    "df_reviews = pd.read_csv(r'reviewssc.csv', header = 0, sep =',',names = [\"gPlusPlaceId\",'gPlusUserId','rating','unixReviewTime'])\n",
    "df_reviews[0:5]"
   ]
  },
  {
   "cell_type": "code",
   "execution_count": 7,
   "metadata": {},
   "outputs": [
    {
     "data": {
      "text/plain": [
       "(67357, 4)"
      ]
     },
     "execution_count": 7,
     "metadata": {},
     "output_type": "execute_result"
    }
   ],
   "source": [
    "df_reviews.shape"
   ]
  },
  {
   "cell_type": "code",
   "execution_count": 8,
   "metadata": {},
   "outputs": [],
   "source": [
    "df_reviews_avr = df_reviews.groupby(['gPlusPlaceId']).mean()"
   ]
  },
  {
   "cell_type": "code",
   "execution_count": 9,
   "metadata": {
    "scrolled": true
   },
   "outputs": [
    {
     "data": {
      "text/plain": [
       "(10727, 1)"
      ]
     },
     "execution_count": 9,
     "metadata": {},
     "output_type": "execute_result"
    }
   ],
   "source": [
    "df_reviews_avr.shape"
   ]
  },
  {
   "cell_type": "code",
   "execution_count": 10,
   "metadata": {},
   "outputs": [
    {
     "data": {
      "text/html": [
       "<div>\n",
       "<style scoped>\n",
       "    .dataframe tbody tr th:only-of-type {\n",
       "        vertical-align: middle;\n",
       "    }\n",
       "\n",
       "    .dataframe tbody tr th {\n",
       "        vertical-align: top;\n",
       "    }\n",
       "\n",
       "    .dataframe thead th {\n",
       "        text-align: right;\n",
       "    }\n",
       "</style>\n",
       "<table border=\"1\" class=\"dataframe\">\n",
       "  <thead>\n",
       "    <tr style=\"text-align: right;\">\n",
       "      <th></th>\n",
       "      <th>rating</th>\n",
       "    </tr>\n",
       "    <tr>\n",
       "      <th>gPlusPlaceId</th>\n",
       "      <th></th>\n",
       "    </tr>\n",
       "  </thead>\n",
       "  <tbody>\n",
       "    <tr>\n",
       "      <th>100002264435601337128</th>\n",
       "      <td>1.000000</td>\n",
       "    </tr>\n",
       "    <tr>\n",
       "      <th>100003081502560650727</th>\n",
       "      <td>3.333333</td>\n",
       "    </tr>\n",
       "    <tr>\n",
       "      <th>100005291831986543315</th>\n",
       "      <td>5.000000</td>\n",
       "    </tr>\n",
       "    <tr>\n",
       "      <th>100007381303345832988</th>\n",
       "      <td>3.666667</td>\n",
       "    </tr>\n",
       "    <tr>\n",
       "      <th>100007442447388544690</th>\n",
       "      <td>4.548387</td>\n",
       "    </tr>\n",
       "    <tr>\n",
       "      <th>100007457706738092330</th>\n",
       "      <td>4.333333</td>\n",
       "    </tr>\n",
       "    <tr>\n",
       "      <th>100008241700724744401</th>\n",
       "      <td>3.000000</td>\n",
       "    </tr>\n",
       "    <tr>\n",
       "      <th>100010035184425103894</th>\n",
       "      <td>5.000000</td>\n",
       "    </tr>\n",
       "    <tr>\n",
       "      <th>100013820789956610492</th>\n",
       "      <td>4.000000</td>\n",
       "    </tr>\n",
       "    <tr>\n",
       "      <th>100014215475045648599</th>\n",
       "      <td>5.000000</td>\n",
       "    </tr>\n",
       "  </tbody>\n",
       "</table>\n",
       "</div>"
      ],
      "text/plain": [
       "                         rating\n",
       "gPlusPlaceId                   \n",
       "100002264435601337128  1.000000\n",
       "100003081502560650727  3.333333\n",
       "100005291831986543315  5.000000\n",
       "100007381303345832988  3.666667\n",
       "100007442447388544690  4.548387\n",
       "100007457706738092330  4.333333\n",
       "100008241700724744401  3.000000\n",
       "100010035184425103894  5.000000\n",
       "100013820789956610492  4.000000\n",
       "100014215475045648599  5.000000"
      ]
     },
     "execution_count": 10,
     "metadata": {},
     "output_type": "execute_result"
    }
   ],
   "source": [
    "df_reviews_avr[:10]"
   ]
  },
  {
   "cell_type": "code",
   "execution_count": 19,
   "metadata": {},
   "outputs": [],
   "source": [
    "df_reviews_count = df_reviews.groupby(['gPlusPlaceId']).count().sort_values(['gPlusUserId'], ascending = False)"
   ]
  },
  {
   "cell_type": "code",
   "execution_count": 20,
   "metadata": {
    "scrolled": true
   },
   "outputs": [
    {
     "data": {
      "text/html": [
       "<div>\n",
       "<style scoped>\n",
       "    .dataframe tbody tr th:only-of-type {\n",
       "        vertical-align: middle;\n",
       "    }\n",
       "\n",
       "    .dataframe tbody tr th {\n",
       "        vertical-align: top;\n",
       "    }\n",
       "\n",
       "    .dataframe thead th {\n",
       "        text-align: right;\n",
       "    }\n",
       "</style>\n",
       "<table border=\"1\" class=\"dataframe\">\n",
       "  <thead>\n",
       "    <tr style=\"text-align: right;\">\n",
       "      <th></th>\n",
       "      <th>gPlusUserId</th>\n",
       "      <th>rating</th>\n",
       "      <th>unixReviewTime</th>\n",
       "    </tr>\n",
       "    <tr>\n",
       "      <th>gPlusPlaceId</th>\n",
       "      <th></th>\n",
       "      <th></th>\n",
       "      <th></th>\n",
       "    </tr>\n",
       "  </thead>\n",
       "  <tbody>\n",
       "    <tr>\n",
       "      <th>102930680494956726639</th>\n",
       "      <td>438</td>\n",
       "      <td>438</td>\n",
       "      <td>438</td>\n",
       "    </tr>\n",
       "    <tr>\n",
       "      <th>113600687394360880822</th>\n",
       "      <td>284</td>\n",
       "      <td>284</td>\n",
       "      <td>284</td>\n",
       "    </tr>\n",
       "    <tr>\n",
       "      <th>104843458819870793031</th>\n",
       "      <td>280</td>\n",
       "      <td>280</td>\n",
       "      <td>280</td>\n",
       "    </tr>\n",
       "    <tr>\n",
       "      <th>110413269670370652485</th>\n",
       "      <td>256</td>\n",
       "      <td>256</td>\n",
       "      <td>256</td>\n",
       "    </tr>\n",
       "    <tr>\n",
       "      <th>113581272197213553471</th>\n",
       "      <td>255</td>\n",
       "      <td>255</td>\n",
       "      <td>255</td>\n",
       "    </tr>\n",
       "    <tr>\n",
       "      <th>114848478602803431611</th>\n",
       "      <td>250</td>\n",
       "      <td>250</td>\n",
       "      <td>250</td>\n",
       "    </tr>\n",
       "    <tr>\n",
       "      <th>110958093850685299665</th>\n",
       "      <td>235</td>\n",
       "      <td>235</td>\n",
       "      <td>235</td>\n",
       "    </tr>\n",
       "    <tr>\n",
       "      <th>100072485644272595732</th>\n",
       "      <td>228</td>\n",
       "      <td>228</td>\n",
       "      <td>228</td>\n",
       "    </tr>\n",
       "    <tr>\n",
       "      <th>105308490958553034112</th>\n",
       "      <td>220</td>\n",
       "      <td>220</td>\n",
       "      <td>220</td>\n",
       "    </tr>\n",
       "    <tr>\n",
       "      <th>101737577176762391341</th>\n",
       "      <td>209</td>\n",
       "      <td>209</td>\n",
       "      <td>209</td>\n",
       "    </tr>\n",
       "  </tbody>\n",
       "</table>\n",
       "</div>"
      ],
      "text/plain": [
       "                       gPlusUserId  rating  unixReviewTime\n",
       "gPlusPlaceId                                              \n",
       "102930680494956726639          438     438             438\n",
       "113600687394360880822          284     284             284\n",
       "104843458819870793031          280     280             280\n",
       "110413269670370652485          256     256             256\n",
       "113581272197213553471          255     255             255\n",
       "114848478602803431611          250     250             250\n",
       "110958093850685299665          235     235             235\n",
       "100072485644272595732          228     228             228\n",
       "105308490958553034112          220     220             220\n",
       "101737577176762391341          209     209             209"
      ]
     },
     "execution_count": 20,
     "metadata": {},
     "output_type": "execute_result"
    }
   ],
   "source": [
    "df_reviews_count[:10]"
   ]
  },
  {
   "cell_type": "code",
   "execution_count": 21,
   "metadata": {},
   "outputs": [
    {
     "data": {
      "text/plain": [
       "(10727, 3)"
      ]
     },
     "execution_count": 21,
     "metadata": {},
     "output_type": "execute_result"
    }
   ],
   "source": [
    "df_reviews_count.shape"
   ]
  },
  {
   "cell_type": "code",
   "execution_count": 22,
   "metadata": {},
   "outputs": [],
   "source": [
    "df_reviews_count.rename(columns = {'rating' : 'count'}, inplace = True)"
   ]
  },
  {
   "cell_type": "code",
   "execution_count": 23,
   "metadata": {},
   "outputs": [
    {
     "data": {
      "text/html": [
       "<div>\n",
       "<style scoped>\n",
       "    .dataframe tbody tr th:only-of-type {\n",
       "        vertical-align: middle;\n",
       "    }\n",
       "\n",
       "    .dataframe tbody tr th {\n",
       "        vertical-align: top;\n",
       "    }\n",
       "\n",
       "    .dataframe thead th {\n",
       "        text-align: right;\n",
       "    }\n",
       "</style>\n",
       "<table border=\"1\" class=\"dataframe\">\n",
       "  <thead>\n",
       "    <tr style=\"text-align: right;\">\n",
       "      <th></th>\n",
       "      <th>gPlusUserId</th>\n",
       "      <th>count</th>\n",
       "      <th>unixReviewTime</th>\n",
       "    </tr>\n",
       "    <tr>\n",
       "      <th>gPlusPlaceId</th>\n",
       "      <th></th>\n",
       "      <th></th>\n",
       "      <th></th>\n",
       "    </tr>\n",
       "  </thead>\n",
       "  <tbody>\n",
       "    <tr>\n",
       "      <th>102930680494956726639</th>\n",
       "      <td>438</td>\n",
       "      <td>438</td>\n",
       "      <td>438</td>\n",
       "    </tr>\n",
       "    <tr>\n",
       "      <th>113600687394360880822</th>\n",
       "      <td>284</td>\n",
       "      <td>284</td>\n",
       "      <td>284</td>\n",
       "    </tr>\n",
       "    <tr>\n",
       "      <th>104843458819870793031</th>\n",
       "      <td>280</td>\n",
       "      <td>280</td>\n",
       "      <td>280</td>\n",
       "    </tr>\n",
       "    <tr>\n",
       "      <th>110413269670370652485</th>\n",
       "      <td>256</td>\n",
       "      <td>256</td>\n",
       "      <td>256</td>\n",
       "    </tr>\n",
       "    <tr>\n",
       "      <th>113581272197213553471</th>\n",
       "      <td>255</td>\n",
       "      <td>255</td>\n",
       "      <td>255</td>\n",
       "    </tr>\n",
       "    <tr>\n",
       "      <th>114848478602803431611</th>\n",
       "      <td>250</td>\n",
       "      <td>250</td>\n",
       "      <td>250</td>\n",
       "    </tr>\n",
       "    <tr>\n",
       "      <th>110958093850685299665</th>\n",
       "      <td>235</td>\n",
       "      <td>235</td>\n",
       "      <td>235</td>\n",
       "    </tr>\n",
       "    <tr>\n",
       "      <th>100072485644272595732</th>\n",
       "      <td>228</td>\n",
       "      <td>228</td>\n",
       "      <td>228</td>\n",
       "    </tr>\n",
       "    <tr>\n",
       "      <th>105308490958553034112</th>\n",
       "      <td>220</td>\n",
       "      <td>220</td>\n",
       "      <td>220</td>\n",
       "    </tr>\n",
       "    <tr>\n",
       "      <th>101737577176762391341</th>\n",
       "      <td>209</td>\n",
       "      <td>209</td>\n",
       "      <td>209</td>\n",
       "    </tr>\n",
       "  </tbody>\n",
       "</table>\n",
       "</div>"
      ],
      "text/plain": [
       "                       gPlusUserId  count  unixReviewTime\n",
       "gPlusPlaceId                                             \n",
       "102930680494956726639          438    438             438\n",
       "113600687394360880822          284    284             284\n",
       "104843458819870793031          280    280             280\n",
       "110413269670370652485          256    256             256\n",
       "113581272197213553471          255    255             255\n",
       "114848478602803431611          250    250             250\n",
       "110958093850685299665          235    235             235\n",
       "100072485644272595732          228    228             228\n",
       "105308490958553034112          220    220             220\n",
       "101737577176762391341          209    209             209"
      ]
     },
     "execution_count": 23,
     "metadata": {},
     "output_type": "execute_result"
    }
   ],
   "source": [
    "df_reviews_count[:10]"
   ]
  },
  {
   "cell_type": "code",
   "execution_count": 24,
   "metadata": {},
   "outputs": [
    {
     "data": {
      "text/html": [
       "<div>\n",
       "<style scoped>\n",
       "    .dataframe tbody tr th:only-of-type {\n",
       "        vertical-align: middle;\n",
       "    }\n",
       "\n",
       "    .dataframe tbody tr th {\n",
       "        vertical-align: top;\n",
       "    }\n",
       "\n",
       "    .dataframe thead th {\n",
       "        text-align: right;\n",
       "    }\n",
       "</style>\n",
       "<table border=\"1\" class=\"dataframe\">\n",
       "  <thead>\n",
       "    <tr style=\"text-align: right;\">\n",
       "      <th></th>\n",
       "      <th>count</th>\n",
       "    </tr>\n",
       "    <tr>\n",
       "      <th>gPlusPlaceId</th>\n",
       "      <th></th>\n",
       "    </tr>\n",
       "  </thead>\n",
       "  <tbody>\n",
       "    <tr>\n",
       "      <th>102930680494956726639</th>\n",
       "      <td>438</td>\n",
       "    </tr>\n",
       "    <tr>\n",
       "      <th>113600687394360880822</th>\n",
       "      <td>284</td>\n",
       "    </tr>\n",
       "    <tr>\n",
       "      <th>104843458819870793031</th>\n",
       "      <td>280</td>\n",
       "    </tr>\n",
       "    <tr>\n",
       "      <th>110413269670370652485</th>\n",
       "      <td>256</td>\n",
       "    </tr>\n",
       "    <tr>\n",
       "      <th>113581272197213553471</th>\n",
       "      <td>255</td>\n",
       "    </tr>\n",
       "    <tr>\n",
       "      <th>114848478602803431611</th>\n",
       "      <td>250</td>\n",
       "    </tr>\n",
       "    <tr>\n",
       "      <th>110958093850685299665</th>\n",
       "      <td>235</td>\n",
       "    </tr>\n",
       "    <tr>\n",
       "      <th>100072485644272595732</th>\n",
       "      <td>228</td>\n",
       "    </tr>\n",
       "    <tr>\n",
       "      <th>105308490958553034112</th>\n",
       "      <td>220</td>\n",
       "    </tr>\n",
       "    <tr>\n",
       "      <th>101737577176762391341</th>\n",
       "      <td>209</td>\n",
       "    </tr>\n",
       "  </tbody>\n",
       "</table>\n",
       "</div>"
      ],
      "text/plain": [
       "                       count\n",
       "gPlusPlaceId                \n",
       "102930680494956726639    438\n",
       "113600687394360880822    284\n",
       "104843458819870793031    280\n",
       "110413269670370652485    256\n",
       "113581272197213553471    255\n",
       "114848478602803431611    250\n",
       "110958093850685299665    235\n",
       "100072485644272595732    228\n",
       "105308490958553034112    220\n",
       "101737577176762391341    209"
      ]
     },
     "execution_count": 24,
     "metadata": {},
     "output_type": "execute_result"
    }
   ],
   "source": [
    "df_reviews_count = df_reviews_count[['count']]\n",
    "df_reviews_count[:10]"
   ]
  },
  {
   "cell_type": "code",
   "execution_count": 27,
   "metadata": {},
   "outputs": [],
   "source": [
    "df_reviews_aver_acount = pd.merge(df_reviews_avr, df_reviews_count, how = 'right', on = 'gPlusPlaceId')"
   ]
  },
  {
   "cell_type": "code",
   "execution_count": 28,
   "metadata": {},
   "outputs": [
    {
     "data": {
      "text/html": [
       "<div>\n",
       "<style scoped>\n",
       "    .dataframe tbody tr th:only-of-type {\n",
       "        vertical-align: middle;\n",
       "    }\n",
       "\n",
       "    .dataframe tbody tr th {\n",
       "        vertical-align: top;\n",
       "    }\n",
       "\n",
       "    .dataframe thead th {\n",
       "        text-align: right;\n",
       "    }\n",
       "</style>\n",
       "<table border=\"1\" class=\"dataframe\">\n",
       "  <thead>\n",
       "    <tr style=\"text-align: right;\">\n",
       "      <th></th>\n",
       "      <th>rating</th>\n",
       "      <th>count</th>\n",
       "    </tr>\n",
       "    <tr>\n",
       "      <th>gPlusPlaceId</th>\n",
       "      <th></th>\n",
       "      <th></th>\n",
       "    </tr>\n",
       "  </thead>\n",
       "  <tbody>\n",
       "    <tr>\n",
       "      <th>100002264435601337128</th>\n",
       "      <td>1.000000</td>\n",
       "      <td>1</td>\n",
       "    </tr>\n",
       "    <tr>\n",
       "      <th>100003081502560650727</th>\n",
       "      <td>3.333333</td>\n",
       "      <td>3</td>\n",
       "    </tr>\n",
       "    <tr>\n",
       "      <th>100005291831986543315</th>\n",
       "      <td>5.000000</td>\n",
       "      <td>1</td>\n",
       "    </tr>\n",
       "    <tr>\n",
       "      <th>100007381303345832988</th>\n",
       "      <td>3.666667</td>\n",
       "      <td>21</td>\n",
       "    </tr>\n",
       "    <tr>\n",
       "      <th>100007442447388544690</th>\n",
       "      <td>4.548387</td>\n",
       "      <td>31</td>\n",
       "    </tr>\n",
       "    <tr>\n",
       "      <th>100007457706738092330</th>\n",
       "      <td>4.333333</td>\n",
       "      <td>3</td>\n",
       "    </tr>\n",
       "    <tr>\n",
       "      <th>100008241700724744401</th>\n",
       "      <td>3.000000</td>\n",
       "      <td>2</td>\n",
       "    </tr>\n",
       "    <tr>\n",
       "      <th>100010035184425103894</th>\n",
       "      <td>5.000000</td>\n",
       "      <td>1</td>\n",
       "    </tr>\n",
       "    <tr>\n",
       "      <th>100013820789956610492</th>\n",
       "      <td>4.000000</td>\n",
       "      <td>3</td>\n",
       "    </tr>\n",
       "    <tr>\n",
       "      <th>100014215475045648599</th>\n",
       "      <td>5.000000</td>\n",
       "      <td>4</td>\n",
       "    </tr>\n",
       "  </tbody>\n",
       "</table>\n",
       "</div>"
      ],
      "text/plain": [
       "                         rating  count\n",
       "gPlusPlaceId                          \n",
       "100002264435601337128  1.000000      1\n",
       "100003081502560650727  3.333333      3\n",
       "100005291831986543315  5.000000      1\n",
       "100007381303345832988  3.666667     21\n",
       "100007442447388544690  4.548387     31\n",
       "100007457706738092330  4.333333      3\n",
       "100008241700724744401  3.000000      2\n",
       "100010035184425103894  5.000000      1\n",
       "100013820789956610492  4.000000      3\n",
       "100014215475045648599  5.000000      4"
      ]
     },
     "execution_count": 28,
     "metadata": {},
     "output_type": "execute_result"
    }
   ],
   "source": [
    "df_reviews_aver_acount[:10]"
   ]
  },
  {
   "cell_type": "code",
   "execution_count": 30,
   "metadata": {
    "scrolled": true
   },
   "outputs": [
    {
     "data": {
      "text/plain": [
       "(10727, 2)"
      ]
     },
     "execution_count": 30,
     "metadata": {},
     "output_type": "execute_result"
    }
   ],
   "source": [
    "df_reviews_aver_acount.shape"
   ]
  },
  {
   "cell_type": "code",
   "execution_count": 31,
   "metadata": {},
   "outputs": [],
   "source": [
    "df_places = pd.read_csv(r'places_scc.csv', header = 0, sep = '\\t')"
   ]
  },
  {
   "cell_type": "code",
   "execution_count": 32,
   "metadata": {},
   "outputs": [
    {
     "data": {
      "text/html": [
       "<div>\n",
       "<style scoped>\n",
       "    .dataframe tbody tr th:only-of-type {\n",
       "        vertical-align: middle;\n",
       "    }\n",
       "\n",
       "    .dataframe tbody tr th {\n",
       "        vertical-align: top;\n",
       "    }\n",
       "\n",
       "    .dataframe thead th {\n",
       "        text-align: right;\n",
       "    }\n",
       "</style>\n",
       "<table border=\"1\" class=\"dataframe\">\n",
       "  <thead>\n",
       "    <tr style=\"text-align: right;\">\n",
       "      <th></th>\n",
       "      <th>name</th>\n",
       "      <th>gPlusPlaceId</th>\n",
       "      <th>latitude</th>\n",
       "      <th>longitude</th>\n",
       "    </tr>\n",
       "  </thead>\n",
       "  <tbody>\n",
       "    <tr>\n",
       "      <th>0</th>\n",
       "      <td>b'Merry Maids'</td>\n",
       "      <td>116167008685876949080</td>\n",
       "      <td>37.428433</td>\n",
       "      <td>-122.072381</td>\n",
       "    </tr>\n",
       "    <tr>\n",
       "      <th>1</th>\n",
       "      <td>b'ClickAway'</td>\n",
       "      <td>109313049343702688278</td>\n",
       "      <td>37.397753</td>\n",
       "      <td>-122.107742</td>\n",
       "    </tr>\n",
       "    <tr>\n",
       "      <th>2</th>\n",
       "      <td>b'Arroyo Animal Clinic'</td>\n",
       "      <td>105002697535923134513</td>\n",
       "      <td>37.352790</td>\n",
       "      <td>-122.003012</td>\n",
       "    </tr>\n",
       "    <tr>\n",
       "      <th>3</th>\n",
       "      <td>b'Williams Cutlery &amp; Gifts'</td>\n",
       "      <td>110907461902274791474</td>\n",
       "      <td>37.261032</td>\n",
       "      <td>-121.928556</td>\n",
       "    </tr>\n",
       "    <tr>\n",
       "      <th>4</th>\n",
       "      <td>b'Kenzo Sushi'</td>\n",
       "      <td>108154014110798888312</td>\n",
       "      <td>37.254326</td>\n",
       "      <td>-121.831140</td>\n",
       "    </tr>\n",
       "  </tbody>\n",
       "</table>\n",
       "</div>"
      ],
      "text/plain": [
       "                          name           gPlusPlaceId   latitude   longitude\n",
       "0               b'Merry Maids'  116167008685876949080  37.428433 -122.072381\n",
       "1                 b'ClickAway'  109313049343702688278  37.397753 -122.107742\n",
       "2      b'Arroyo Animal Clinic'  105002697535923134513  37.352790 -122.003012\n",
       "3  b'Williams Cutlery & Gifts'  110907461902274791474  37.261032 -121.928556\n",
       "4               b'Kenzo Sushi'  108154014110798888312  37.254326 -121.831140"
      ]
     },
     "execution_count": 32,
     "metadata": {},
     "output_type": "execute_result"
    }
   ],
   "source": [
    "df_places[0:5]"
   ]
  },
  {
   "cell_type": "code",
   "execution_count": 33,
   "metadata": {},
   "outputs": [
    {
     "data": {
      "text/plain": [
       "(10727, 4)"
      ]
     },
     "execution_count": 33,
     "metadata": {},
     "output_type": "execute_result"
    }
   ],
   "source": [
    "df_places.shape"
   ]
  },
  {
   "cell_type": "code",
   "execution_count": 34,
   "metadata": {},
   "outputs": [],
   "source": [
    "df_places_category = pd.read_csv(r'reviews_categaries.csv', header = 0, sep = ',')"
   ]
  },
  {
   "cell_type": "code",
   "execution_count": 35,
   "metadata": {
    "scrolled": true
   },
   "outputs": [
    {
     "data": {
      "text/html": [
       "<div>\n",
       "<style scoped>\n",
       "    .dataframe tbody tr th:only-of-type {\n",
       "        vertical-align: middle;\n",
       "    }\n",
       "\n",
       "    .dataframe tbody tr th {\n",
       "        vertical-align: top;\n",
       "    }\n",
       "\n",
       "    .dataframe thead th {\n",
       "        text-align: right;\n",
       "    }\n",
       "</style>\n",
       "<table border=\"1\" class=\"dataframe\">\n",
       "  <thead>\n",
       "    <tr style=\"text-align: right;\">\n",
       "      <th></th>\n",
       "      <th>gPlusPlaceId</th>\n",
       "      <th>categaries</th>\n",
       "    </tr>\n",
       "  </thead>\n",
       "  <tbody>\n",
       "    <tr>\n",
       "      <th>0</th>\n",
       "      <td>108103314380004200232</td>\n",
       "      <td>Giải Trí - Café</td>\n",
       "    </tr>\n",
       "    <tr>\n",
       "      <th>1</th>\n",
       "      <td>102194128241608748649</td>\n",
       "      <td>Turkish Cuisine</td>\n",
       "    </tr>\n",
       "    <tr>\n",
       "      <th>2</th>\n",
       "      <td>101409858828175402384</td>\n",
       "      <td>Fishing</td>\n",
       "    </tr>\n",
       "    <tr>\n",
       "      <th>3</th>\n",
       "      <td>101409858828175402384</td>\n",
       "      <td>Pond Fish Supplier</td>\n",
       "    </tr>\n",
       "    <tr>\n",
       "      <th>4</th>\n",
       "      <td>101409858828175402384</td>\n",
       "      <td>Seafood Market</td>\n",
       "    </tr>\n",
       "  </tbody>\n",
       "</table>\n",
       "</div>"
      ],
      "text/plain": [
       "            gPlusPlaceId          categaries\n",
       "0  108103314380004200232     Giải Trí - Café\n",
       "1  102194128241608748649     Turkish Cuisine\n",
       "2  101409858828175402384             Fishing\n",
       "3  101409858828175402384  Pond Fish Supplier\n",
       "4  101409858828175402384      Seafood Market"
      ]
     },
     "execution_count": 35,
     "metadata": {},
     "output_type": "execute_result"
    }
   ],
   "source": [
    "df_places_category[:5]"
   ]
  },
  {
   "cell_type": "code",
   "execution_count": 36,
   "metadata": {
    "scrolled": true
   },
   "outputs": [
    {
     "data": {
      "text/plain": [
       "(17968739, 2)"
      ]
     },
     "execution_count": 36,
     "metadata": {},
     "output_type": "execute_result"
    }
   ],
   "source": [
    "df_places_category.shape"
   ]
  },
  {
   "cell_type": "code",
   "execution_count": 37,
   "metadata": {},
   "outputs": [],
   "source": [
    "df_places_category_filter = df_places_category.drop_duplicates()"
   ]
  },
  {
   "cell_type": "code",
   "execution_count": 38,
   "metadata": {},
   "outputs": [
    {
     "data": {
      "text/plain": [
       "(4680492, 2)"
      ]
     },
     "execution_count": 38,
     "metadata": {},
     "output_type": "execute_result"
    }
   ],
   "source": [
    "df_places_category_filter.shape"
   ]
  },
  {
   "cell_type": "code",
   "execution_count": 39,
   "metadata": {},
   "outputs": [],
   "source": [
    "df_sorted_categaries = df_places_category.groupby(['categaries']).count().sort_values(['gPlusPlaceId'], ascending=False)"
   ]
  },
  {
   "cell_type": "code",
   "execution_count": 40,
   "metadata": {
    "scrolled": true
   },
   "outputs": [
    {
     "data": {
      "text/html": [
       "<div>\n",
       "<style scoped>\n",
       "    .dataframe tbody tr th:only-of-type {\n",
       "        vertical-align: middle;\n",
       "    }\n",
       "\n",
       "    .dataframe tbody tr th {\n",
       "        vertical-align: top;\n",
       "    }\n",
       "\n",
       "    .dataframe thead th {\n",
       "        text-align: right;\n",
       "    }\n",
       "</style>\n",
       "<table border=\"1\" class=\"dataframe\">\n",
       "  <thead>\n",
       "    <tr style=\"text-align: right;\">\n",
       "      <th></th>\n",
       "      <th>gPlusPlaceId</th>\n",
       "    </tr>\n",
       "    <tr>\n",
       "      <th>categaries</th>\n",
       "      <th></th>\n",
       "    </tr>\n",
       "  </thead>\n",
       "  <tbody>\n",
       "    <tr>\n",
       "      <th>Restaurant</th>\n",
       "      <td>1116843</td>\n",
       "    </tr>\n",
       "    <tr>\n",
       "      <th>Hotel</th>\n",
       "      <td>543819</td>\n",
       "    </tr>\n",
       "    <tr>\n",
       "      <th>European Restaurant</th>\n",
       "      <td>525714</td>\n",
       "    </tr>\n",
       "    <tr>\n",
       "      <th>Asian Restaurant</th>\n",
       "      <td>473580</td>\n",
       "    </tr>\n",
       "    <tr>\n",
       "      <th>American Restaurant</th>\n",
       "      <td>433976</td>\n",
       "    </tr>\n",
       "    <tr>\n",
       "      <th>Italian Restaurant</th>\n",
       "      <td>423744</td>\n",
       "    </tr>\n",
       "    <tr>\n",
       "      <th>Bar</th>\n",
       "      <td>364460</td>\n",
       "    </tr>\n",
       "    <tr>\n",
       "      <th>Pizza Restaurant</th>\n",
       "      <td>333270</td>\n",
       "    </tr>\n",
       "    <tr>\n",
       "      <th>Fast Food Restaurant</th>\n",
       "      <td>307823</td>\n",
       "    </tr>\n",
       "    <tr>\n",
       "      <th>Cafe</th>\n",
       "      <td>257379</td>\n",
       "    </tr>\n",
       "  </tbody>\n",
       "</table>\n",
       "</div>"
      ],
      "text/plain": [
       "                      gPlusPlaceId\n",
       "categaries                        \n",
       "Restaurant                 1116843\n",
       "Hotel                       543819\n",
       "European Restaurant         525714\n",
       "Asian Restaurant            473580\n",
       "American Restaurant         433976\n",
       "Italian Restaurant          423744\n",
       "Bar                         364460\n",
       "Pizza Restaurant            333270\n",
       "Fast Food Restaurant        307823\n",
       "Cafe                        257379"
      ]
     },
     "execution_count": 40,
     "metadata": {},
     "output_type": "execute_result"
    }
   ],
   "source": [
    "df_sorted_categaries[:10]"
   ]
  },
  {
   "cell_type": "code",
   "execution_count": 41,
   "metadata": {
    "scrolled": true
   },
   "outputs": [
    {
     "data": {
      "text/html": [
       "<div>\n",
       "<style scoped>\n",
       "    .dataframe tbody tr th:only-of-type {\n",
       "        vertical-align: middle;\n",
       "    }\n",
       "\n",
       "    .dataframe tbody tr th {\n",
       "        vertical-align: top;\n",
       "    }\n",
       "\n",
       "    .dataframe thead th {\n",
       "        text-align: right;\n",
       "    }\n",
       "</style>\n",
       "<table border=\"1\" class=\"dataframe\">\n",
       "  <thead>\n",
       "    <tr style=\"text-align: right;\">\n",
       "      <th></th>\n",
       "      <th>rating</th>\n",
       "      <th>count</th>\n",
       "    </tr>\n",
       "    <tr>\n",
       "      <th>gPlusPlaceId</th>\n",
       "      <th></th>\n",
       "      <th></th>\n",
       "    </tr>\n",
       "  </thead>\n",
       "  <tbody>\n",
       "    <tr>\n",
       "      <th>100002264435601337128</th>\n",
       "      <td>1.000000</td>\n",
       "      <td>1</td>\n",
       "    </tr>\n",
       "    <tr>\n",
       "      <th>100003081502560650727</th>\n",
       "      <td>3.333333</td>\n",
       "      <td>3</td>\n",
       "    </tr>\n",
       "    <tr>\n",
       "      <th>100005291831986543315</th>\n",
       "      <td>5.000000</td>\n",
       "      <td>1</td>\n",
       "    </tr>\n",
       "    <tr>\n",
       "      <th>100007381303345832988</th>\n",
       "      <td>3.666667</td>\n",
       "      <td>21</td>\n",
       "    </tr>\n",
       "    <tr>\n",
       "      <th>100007442447388544690</th>\n",
       "      <td>4.548387</td>\n",
       "      <td>31</td>\n",
       "    </tr>\n",
       "  </tbody>\n",
       "</table>\n",
       "</div>"
      ],
      "text/plain": [
       "                         rating  count\n",
       "gPlusPlaceId                          \n",
       "100002264435601337128  1.000000      1\n",
       "100003081502560650727  3.333333      3\n",
       "100005291831986543315  5.000000      1\n",
       "100007381303345832988  3.666667     21\n",
       "100007442447388544690  4.548387     31"
      ]
     },
     "execution_count": 41,
     "metadata": {},
     "output_type": "execute_result"
    }
   ],
   "source": [
    "df_reviews_aver_acount[:5]"
   ]
  },
  {
   "cell_type": "code",
   "execution_count": 42,
   "metadata": {},
   "outputs": [
    {
     "data": {
      "text/html": [
       "<div>\n",
       "<style scoped>\n",
       "    .dataframe tbody tr th:only-of-type {\n",
       "        vertical-align: middle;\n",
       "    }\n",
       "\n",
       "    .dataframe tbody tr th {\n",
       "        vertical-align: top;\n",
       "    }\n",
       "\n",
       "    .dataframe thead th {\n",
       "        text-align: right;\n",
       "    }\n",
       "</style>\n",
       "<table border=\"1\" class=\"dataframe\">\n",
       "  <thead>\n",
       "    <tr style=\"text-align: right;\">\n",
       "      <th></th>\n",
       "      <th>name</th>\n",
       "      <th>gPlusPlaceId</th>\n",
       "      <th>latitude</th>\n",
       "      <th>longitude</th>\n",
       "    </tr>\n",
       "  </thead>\n",
       "  <tbody>\n",
       "    <tr>\n",
       "      <th>0</th>\n",
       "      <td>b'Merry Maids'</td>\n",
       "      <td>116167008685876949080</td>\n",
       "      <td>37.428433</td>\n",
       "      <td>-122.072381</td>\n",
       "    </tr>\n",
       "    <tr>\n",
       "      <th>1</th>\n",
       "      <td>b'ClickAway'</td>\n",
       "      <td>109313049343702688278</td>\n",
       "      <td>37.397753</td>\n",
       "      <td>-122.107742</td>\n",
       "    </tr>\n",
       "    <tr>\n",
       "      <th>2</th>\n",
       "      <td>b'Arroyo Animal Clinic'</td>\n",
       "      <td>105002697535923134513</td>\n",
       "      <td>37.352790</td>\n",
       "      <td>-122.003012</td>\n",
       "    </tr>\n",
       "    <tr>\n",
       "      <th>3</th>\n",
       "      <td>b'Williams Cutlery &amp; Gifts'</td>\n",
       "      <td>110907461902274791474</td>\n",
       "      <td>37.261032</td>\n",
       "      <td>-121.928556</td>\n",
       "    </tr>\n",
       "    <tr>\n",
       "      <th>4</th>\n",
       "      <td>b'Kenzo Sushi'</td>\n",
       "      <td>108154014110798888312</td>\n",
       "      <td>37.254326</td>\n",
       "      <td>-121.831140</td>\n",
       "    </tr>\n",
       "  </tbody>\n",
       "</table>\n",
       "</div>"
      ],
      "text/plain": [
       "                          name           gPlusPlaceId   latitude   longitude\n",
       "0               b'Merry Maids'  116167008685876949080  37.428433 -122.072381\n",
       "1                 b'ClickAway'  109313049343702688278  37.397753 -122.107742\n",
       "2      b'Arroyo Animal Clinic'  105002697535923134513  37.352790 -122.003012\n",
       "3  b'Williams Cutlery & Gifts'  110907461902274791474  37.261032 -121.928556\n",
       "4               b'Kenzo Sushi'  108154014110798888312  37.254326 -121.831140"
      ]
     },
     "execution_count": 42,
     "metadata": {},
     "output_type": "execute_result"
    }
   ],
   "source": [
    "df_places[:5]"
   ]
  },
  {
   "cell_type": "code",
   "execution_count": 44,
   "metadata": {},
   "outputs": [
    {
     "data": {
      "text/plain": [
       "(10727, 4)"
      ]
     },
     "execution_count": 44,
     "metadata": {},
     "output_type": "execute_result"
    }
   ],
   "source": [
    "df_places.shape"
   ]
  },
  {
   "cell_type": "code",
   "execution_count": 43,
   "metadata": {},
   "outputs": [
    {
     "data": {
      "text/html": [
       "<div>\n",
       "<style scoped>\n",
       "    .dataframe tbody tr th:only-of-type {\n",
       "        vertical-align: middle;\n",
       "    }\n",
       "\n",
       "    .dataframe tbody tr th {\n",
       "        vertical-align: top;\n",
       "    }\n",
       "\n",
       "    .dataframe thead th {\n",
       "        text-align: right;\n",
       "    }\n",
       "</style>\n",
       "<table border=\"1\" class=\"dataframe\">\n",
       "  <thead>\n",
       "    <tr style=\"text-align: right;\">\n",
       "      <th></th>\n",
       "      <th>rating</th>\n",
       "      <th>count</th>\n",
       "    </tr>\n",
       "    <tr>\n",
       "      <th>gPlusPlaceId</th>\n",
       "      <th></th>\n",
       "      <th></th>\n",
       "    </tr>\n",
       "  </thead>\n",
       "  <tbody>\n",
       "    <tr>\n",
       "      <th>100002264435601337128</th>\n",
       "      <td>1.000000</td>\n",
       "      <td>1</td>\n",
       "    </tr>\n",
       "    <tr>\n",
       "      <th>100003081502560650727</th>\n",
       "      <td>3.333333</td>\n",
       "      <td>3</td>\n",
       "    </tr>\n",
       "    <tr>\n",
       "      <th>100005291831986543315</th>\n",
       "      <td>5.000000</td>\n",
       "      <td>1</td>\n",
       "    </tr>\n",
       "    <tr>\n",
       "      <th>100007381303345832988</th>\n",
       "      <td>3.666667</td>\n",
       "      <td>21</td>\n",
       "    </tr>\n",
       "    <tr>\n",
       "      <th>100007442447388544690</th>\n",
       "      <td>4.548387</td>\n",
       "      <td>31</td>\n",
       "    </tr>\n",
       "  </tbody>\n",
       "</table>\n",
       "</div>"
      ],
      "text/plain": [
       "                         rating  count\n",
       "gPlusPlaceId                          \n",
       "100002264435601337128  1.000000      1\n",
       "100003081502560650727  3.333333      3\n",
       "100005291831986543315  5.000000      1\n",
       "100007381303345832988  3.666667     21\n",
       "100007442447388544690  4.548387     31"
      ]
     },
     "execution_count": 43,
     "metadata": {},
     "output_type": "execute_result"
    }
   ],
   "source": [
    "df_reviews_aver_acount[:5]"
   ]
  },
  {
   "cell_type": "code",
   "execution_count": 45,
   "metadata": {},
   "outputs": [
    {
     "data": {
      "text/plain": [
       "(10727, 2)"
      ]
     },
     "execution_count": 45,
     "metadata": {},
     "output_type": "execute_result"
    }
   ],
   "source": [
    "df_reviews_aver_acount.shape"
   ]
  },
  {
   "cell_type": "code",
   "execution_count": 46,
   "metadata": {},
   "outputs": [],
   "source": [
    "df_reviews_final_rating_count = pd.merge(df_places, df_reviews_aver_acount, how = 'left', on = 'gPlusPlaceId')"
   ]
  },
  {
   "cell_type": "code",
   "execution_count": 47,
   "metadata": {
    "scrolled": true
   },
   "outputs": [
    {
     "data": {
      "text/html": [
       "<div>\n",
       "<style scoped>\n",
       "    .dataframe tbody tr th:only-of-type {\n",
       "        vertical-align: middle;\n",
       "    }\n",
       "\n",
       "    .dataframe tbody tr th {\n",
       "        vertical-align: top;\n",
       "    }\n",
       "\n",
       "    .dataframe thead th {\n",
       "        text-align: right;\n",
       "    }\n",
       "</style>\n",
       "<table border=\"1\" class=\"dataframe\">\n",
       "  <thead>\n",
       "    <tr style=\"text-align: right;\">\n",
       "      <th></th>\n",
       "      <th>name</th>\n",
       "      <th>gPlusPlaceId</th>\n",
       "      <th>latitude</th>\n",
       "      <th>longitude</th>\n",
       "      <th>rating</th>\n",
       "      <th>count</th>\n",
       "    </tr>\n",
       "  </thead>\n",
       "  <tbody>\n",
       "    <tr>\n",
       "      <th>0</th>\n",
       "      <td>b'Merry Maids'</td>\n",
       "      <td>116167008685876949080</td>\n",
       "      <td>37.428433</td>\n",
       "      <td>-122.072381</td>\n",
       "      <td>4.000000</td>\n",
       "      <td>2</td>\n",
       "    </tr>\n",
       "    <tr>\n",
       "      <th>1</th>\n",
       "      <td>b'ClickAway'</td>\n",
       "      <td>109313049343702688278</td>\n",
       "      <td>37.397753</td>\n",
       "      <td>-122.107742</td>\n",
       "      <td>4.333333</td>\n",
       "      <td>6</td>\n",
       "    </tr>\n",
       "    <tr>\n",
       "      <th>2</th>\n",
       "      <td>b'Arroyo Animal Clinic'</td>\n",
       "      <td>105002697535923134513</td>\n",
       "      <td>37.352790</td>\n",
       "      <td>-122.003012</td>\n",
       "      <td>5.000000</td>\n",
       "      <td>2</td>\n",
       "    </tr>\n",
       "    <tr>\n",
       "      <th>3</th>\n",
       "      <td>b'Williams Cutlery &amp; Gifts'</td>\n",
       "      <td>110907461902274791474</td>\n",
       "      <td>37.261032</td>\n",
       "      <td>-121.928556</td>\n",
       "      <td>5.000000</td>\n",
       "      <td>2</td>\n",
       "    </tr>\n",
       "    <tr>\n",
       "      <th>4</th>\n",
       "      <td>b'Kenzo Sushi'</td>\n",
       "      <td>108154014110798888312</td>\n",
       "      <td>37.254326</td>\n",
       "      <td>-121.831140</td>\n",
       "      <td>4.285714</td>\n",
       "      <td>14</td>\n",
       "    </tr>\n",
       "  </tbody>\n",
       "</table>\n",
       "</div>"
      ],
      "text/plain": [
       "                          name           gPlusPlaceId   latitude   longitude  \\\n",
       "0               b'Merry Maids'  116167008685876949080  37.428433 -122.072381   \n",
       "1                 b'ClickAway'  109313049343702688278  37.397753 -122.107742   \n",
       "2      b'Arroyo Animal Clinic'  105002697535923134513  37.352790 -122.003012   \n",
       "3  b'Williams Cutlery & Gifts'  110907461902274791474  37.261032 -121.928556   \n",
       "4               b'Kenzo Sushi'  108154014110798888312  37.254326 -121.831140   \n",
       "\n",
       "     rating  count  \n",
       "0  4.000000      2  \n",
       "1  4.333333      6  \n",
       "2  5.000000      2  \n",
       "3  5.000000      2  \n",
       "4  4.285714     14  "
      ]
     },
     "execution_count": 47,
     "metadata": {},
     "output_type": "execute_result"
    }
   ],
   "source": [
    "df_reviews_final_rating_count[:5]"
   ]
  },
  {
   "cell_type": "code",
   "execution_count": 49,
   "metadata": {},
   "outputs": [
    {
     "data": {
      "text/plain": [
       "(10727, 6)"
      ]
     },
     "execution_count": 49,
     "metadata": {},
     "output_type": "execute_result"
    }
   ],
   "source": [
    "df_reviews_final_rating_count.shape"
   ]
  },
  {
   "cell_type": "code",
   "execution_count": 50,
   "metadata": {},
   "outputs": [],
   "source": [
    "df_reviews_final_rating_count_categories = pd.merge(df_reviews_final_rating_count, df_places_category, how = 'left', on = 'gPlusPlaceId')"
   ]
  },
  {
   "cell_type": "code",
   "execution_count": 51,
   "metadata": {
    "scrolled": false
   },
   "outputs": [
    {
     "data": {
      "text/html": [
       "<div>\n",
       "<style scoped>\n",
       "    .dataframe tbody tr th:only-of-type {\n",
       "        vertical-align: middle;\n",
       "    }\n",
       "\n",
       "    .dataframe tbody tr th {\n",
       "        vertical-align: top;\n",
       "    }\n",
       "\n",
       "    .dataframe thead th {\n",
       "        text-align: right;\n",
       "    }\n",
       "</style>\n",
       "<table border=\"1\" class=\"dataframe\">\n",
       "  <thead>\n",
       "    <tr style=\"text-align: right;\">\n",
       "      <th></th>\n",
       "      <th>name</th>\n",
       "      <th>gPlusPlaceId</th>\n",
       "      <th>latitude</th>\n",
       "      <th>longitude</th>\n",
       "      <th>rating</th>\n",
       "      <th>count</th>\n",
       "      <th>categaries</th>\n",
       "    </tr>\n",
       "  </thead>\n",
       "  <tbody>\n",
       "    <tr>\n",
       "      <th>0</th>\n",
       "      <td>b'Merry Maids'</td>\n",
       "      <td>116167008685876949080</td>\n",
       "      <td>37.428433</td>\n",
       "      <td>-122.072381</td>\n",
       "      <td>4.000000</td>\n",
       "      <td>2</td>\n",
       "      <td>Cleaning Service</td>\n",
       "    </tr>\n",
       "    <tr>\n",
       "      <th>1</th>\n",
       "      <td>b'Merry Maids'</td>\n",
       "      <td>116167008685876949080</td>\n",
       "      <td>37.428433</td>\n",
       "      <td>-122.072381</td>\n",
       "      <td>4.000000</td>\n",
       "      <td>2</td>\n",
       "      <td>Carpet Cleaning Service</td>\n",
       "    </tr>\n",
       "    <tr>\n",
       "      <th>2</th>\n",
       "      <td>b'Merry Maids'</td>\n",
       "      <td>116167008685876949080</td>\n",
       "      <td>37.428433</td>\n",
       "      <td>-122.072381</td>\n",
       "      <td>4.000000</td>\n",
       "      <td>2</td>\n",
       "      <td>Cleaning Service</td>\n",
       "    </tr>\n",
       "    <tr>\n",
       "      <th>3</th>\n",
       "      <td>b'Merry Maids'</td>\n",
       "      <td>116167008685876949080</td>\n",
       "      <td>37.428433</td>\n",
       "      <td>-122.072381</td>\n",
       "      <td>4.000000</td>\n",
       "      <td>2</td>\n",
       "      <td>Carpet Cleaning Service</td>\n",
       "    </tr>\n",
       "    <tr>\n",
       "      <th>4</th>\n",
       "      <td>b'ClickAway'</td>\n",
       "      <td>109313049343702688278</td>\n",
       "      <td>37.397753</td>\n",
       "      <td>-122.107742</td>\n",
       "      <td>4.333333</td>\n",
       "      <td>6</td>\n",
       "      <td>Computer Repair Service</td>\n",
       "    </tr>\n",
       "    <tr>\n",
       "      <th>5</th>\n",
       "      <td>b'ClickAway'</td>\n",
       "      <td>109313049343702688278</td>\n",
       "      <td>37.397753</td>\n",
       "      <td>-122.107742</td>\n",
       "      <td>4.333333</td>\n",
       "      <td>6</td>\n",
       "      <td>Electronics Store</td>\n",
       "    </tr>\n",
       "    <tr>\n",
       "      <th>6</th>\n",
       "      <td>b'ClickAway'</td>\n",
       "      <td>109313049343702688278</td>\n",
       "      <td>37.397753</td>\n",
       "      <td>-122.107742</td>\n",
       "      <td>4.333333</td>\n",
       "      <td>6</td>\n",
       "      <td>Cell Phone Store</td>\n",
       "    </tr>\n",
       "    <tr>\n",
       "      <th>7</th>\n",
       "      <td>b'ClickAway'</td>\n",
       "      <td>109313049343702688278</td>\n",
       "      <td>37.397753</td>\n",
       "      <td>-122.107742</td>\n",
       "      <td>4.333333</td>\n",
       "      <td>6</td>\n",
       "      <td>Computer Repair Service</td>\n",
       "    </tr>\n",
       "    <tr>\n",
       "      <th>8</th>\n",
       "      <td>b'ClickAway'</td>\n",
       "      <td>109313049343702688278</td>\n",
       "      <td>37.397753</td>\n",
       "      <td>-122.107742</td>\n",
       "      <td>4.333333</td>\n",
       "      <td>6</td>\n",
       "      <td>Electronics Store</td>\n",
       "    </tr>\n",
       "    <tr>\n",
       "      <th>9</th>\n",
       "      <td>b'ClickAway'</td>\n",
       "      <td>109313049343702688278</td>\n",
       "      <td>37.397753</td>\n",
       "      <td>-122.107742</td>\n",
       "      <td>4.333333</td>\n",
       "      <td>6</td>\n",
       "      <td>Cell Phone Store</td>\n",
       "    </tr>\n",
       "  </tbody>\n",
       "</table>\n",
       "</div>"
      ],
      "text/plain": [
       "             name           gPlusPlaceId   latitude   longitude    rating  \\\n",
       "0  b'Merry Maids'  116167008685876949080  37.428433 -122.072381  4.000000   \n",
       "1  b'Merry Maids'  116167008685876949080  37.428433 -122.072381  4.000000   \n",
       "2  b'Merry Maids'  116167008685876949080  37.428433 -122.072381  4.000000   \n",
       "3  b'Merry Maids'  116167008685876949080  37.428433 -122.072381  4.000000   \n",
       "4    b'ClickAway'  109313049343702688278  37.397753 -122.107742  4.333333   \n",
       "5    b'ClickAway'  109313049343702688278  37.397753 -122.107742  4.333333   \n",
       "6    b'ClickAway'  109313049343702688278  37.397753 -122.107742  4.333333   \n",
       "7    b'ClickAway'  109313049343702688278  37.397753 -122.107742  4.333333   \n",
       "8    b'ClickAway'  109313049343702688278  37.397753 -122.107742  4.333333   \n",
       "9    b'ClickAway'  109313049343702688278  37.397753 -122.107742  4.333333   \n",
       "\n",
       "   count               categaries  \n",
       "0      2         Cleaning Service  \n",
       "1      2  Carpet Cleaning Service  \n",
       "2      2         Cleaning Service  \n",
       "3      2  Carpet Cleaning Service  \n",
       "4      6  Computer Repair Service  \n",
       "5      6        Electronics Store  \n",
       "6      6         Cell Phone Store  \n",
       "7      6  Computer Repair Service  \n",
       "8      6        Electronics Store  \n",
       "9      6         Cell Phone Store  "
      ]
     },
     "execution_count": 51,
     "metadata": {},
     "output_type": "execute_result"
    }
   ],
   "source": [
    "df_reviews_final_rating_count_categories[:10]"
   ]
  },
  {
   "cell_type": "code",
   "execution_count": 53,
   "metadata": {
    "scrolled": true
   },
   "outputs": [
    {
     "data": {
      "text/plain": [
       "(125769, 7)"
      ]
     },
     "execution_count": 53,
     "metadata": {},
     "output_type": "execute_result"
    }
   ],
   "source": [
    "df_reviews_final_rating_count_categories.shape"
   ]
  },
  {
   "cell_type": "code",
   "execution_count": 54,
   "metadata": {},
   "outputs": [],
   "source": [
    "df_reviews_final_rating_count_categories = df_reviews_final_rating_count_categories.drop_duplicates()"
   ]
  },
  {
   "cell_type": "code",
   "execution_count": 55,
   "metadata": {},
   "outputs": [
    {
     "data": {
      "text/plain": [
       "(18791, 7)"
      ]
     },
     "execution_count": 55,
     "metadata": {},
     "output_type": "execute_result"
    }
   ],
   "source": [
    "df_reviews_final_rating_count_categories.shape"
   ]
  },
  {
   "cell_type": "code",
   "execution_count": 56,
   "metadata": {
    "scrolled": true
   },
   "outputs": [
    {
     "data": {
      "text/html": [
       "<div>\n",
       "<style scoped>\n",
       "    .dataframe tbody tr th:only-of-type {\n",
       "        vertical-align: middle;\n",
       "    }\n",
       "\n",
       "    .dataframe tbody tr th {\n",
       "        vertical-align: top;\n",
       "    }\n",
       "\n",
       "    .dataframe thead th {\n",
       "        text-align: right;\n",
       "    }\n",
       "</style>\n",
       "<table border=\"1\" class=\"dataframe\">\n",
       "  <thead>\n",
       "    <tr style=\"text-align: right;\">\n",
       "      <th></th>\n",
       "      <th>name</th>\n",
       "      <th>gPlusPlaceId</th>\n",
       "      <th>latitude</th>\n",
       "      <th>longitude</th>\n",
       "      <th>rating</th>\n",
       "      <th>count</th>\n",
       "      <th>categaries</th>\n",
       "    </tr>\n",
       "  </thead>\n",
       "  <tbody>\n",
       "    <tr>\n",
       "      <th>0</th>\n",
       "      <td>b'Merry Maids'</td>\n",
       "      <td>116167008685876949080</td>\n",
       "      <td>37.428433</td>\n",
       "      <td>-122.072381</td>\n",
       "      <td>4.000000</td>\n",
       "      <td>2</td>\n",
       "      <td>Cleaning Service</td>\n",
       "    </tr>\n",
       "    <tr>\n",
       "      <th>1</th>\n",
       "      <td>b'Merry Maids'</td>\n",
       "      <td>116167008685876949080</td>\n",
       "      <td>37.428433</td>\n",
       "      <td>-122.072381</td>\n",
       "      <td>4.000000</td>\n",
       "      <td>2</td>\n",
       "      <td>Carpet Cleaning Service</td>\n",
       "    </tr>\n",
       "    <tr>\n",
       "      <th>4</th>\n",
       "      <td>b'ClickAway'</td>\n",
       "      <td>109313049343702688278</td>\n",
       "      <td>37.397753</td>\n",
       "      <td>-122.107742</td>\n",
       "      <td>4.333333</td>\n",
       "      <td>6</td>\n",
       "      <td>Computer Repair Service</td>\n",
       "    </tr>\n",
       "    <tr>\n",
       "      <th>5</th>\n",
       "      <td>b'ClickAway'</td>\n",
       "      <td>109313049343702688278</td>\n",
       "      <td>37.397753</td>\n",
       "      <td>-122.107742</td>\n",
       "      <td>4.333333</td>\n",
       "      <td>6</td>\n",
       "      <td>Electronics Store</td>\n",
       "    </tr>\n",
       "    <tr>\n",
       "      <th>6</th>\n",
       "      <td>b'ClickAway'</td>\n",
       "      <td>109313049343702688278</td>\n",
       "      <td>37.397753</td>\n",
       "      <td>-122.107742</td>\n",
       "      <td>4.333333</td>\n",
       "      <td>6</td>\n",
       "      <td>Cell Phone Store</td>\n",
       "    </tr>\n",
       "  </tbody>\n",
       "</table>\n",
       "</div>"
      ],
      "text/plain": [
       "             name           gPlusPlaceId   latitude   longitude    rating  \\\n",
       "0  b'Merry Maids'  116167008685876949080  37.428433 -122.072381  4.000000   \n",
       "1  b'Merry Maids'  116167008685876949080  37.428433 -122.072381  4.000000   \n",
       "4    b'ClickAway'  109313049343702688278  37.397753 -122.107742  4.333333   \n",
       "5    b'ClickAway'  109313049343702688278  37.397753 -122.107742  4.333333   \n",
       "6    b'ClickAway'  109313049343702688278  37.397753 -122.107742  4.333333   \n",
       "\n",
       "   count               categaries  \n",
       "0      2         Cleaning Service  \n",
       "1      2  Carpet Cleaning Service  \n",
       "4      6  Computer Repair Service  \n",
       "5      6        Electronics Store  \n",
       "6      6         Cell Phone Store  "
      ]
     },
     "execution_count": 56,
     "metadata": {},
     "output_type": "execute_result"
    }
   ],
   "source": [
    "df_reviews_final_rating_count_categories[:5]"
   ]
  },
  {
   "cell_type": "code",
   "execution_count": 58,
   "metadata": {},
   "outputs": [
    {
     "data": {
      "text/plain": [
       "(18791, 7)"
      ]
     },
     "execution_count": 58,
     "metadata": {},
     "output_type": "execute_result"
    }
   ],
   "source": [
    "df_reviews_final_rating_count_categories.shape"
   ]
  },
  {
   "cell_type": "code",
   "execution_count": 59,
   "metadata": {},
   "outputs": [],
   "source": [
    "df_reviews_final_rating_count_categories.to_csv(\"0429_places_rating_count_categories.csv\",index=False,sep=',')"
   ]
  },
  {
   "cell_type": "code",
   "execution_count": null,
   "metadata": {},
   "outputs": [],
   "source": []
  },
  {
   "cell_type": "code",
   "execution_count": null,
   "metadata": {},
   "outputs": [],
   "source": [
    "#draft below:"
   ]
  },
  {
   "cell_type": "code",
   "execution_count": 50,
   "metadata": {},
   "outputs": [],
   "source": [
    "def displayNearByPlaces(latitude, longitude):\n",
    "    df_places_nearby = df_reviews_final[(df_reviews_final.latitude <= latitude + 0.0025) \n",
    "                                      & (df_reviews_final.latitude >= latitude - 0.0025)\n",
    "                                      & (df_reviews_final.longitude <= longitude + 0.0025)\n",
    "                                      & (df_reviews_final.longitude >= longitude - 0.0025)]\n",
    "    #df_places_nearby = df_reviews_final[df_reviews_final.latitude == 37.428433]\n",
    "    return df_places_nearby"
   ]
  },
  {
   "cell_type": "code",
   "execution_count": 51,
   "metadata": {},
   "outputs": [
    {
     "data": {
      "text/plain": [
       "(7, 5)"
      ]
     },
     "execution_count": 51,
     "metadata": {},
     "output_type": "execute_result"
    }
   ],
   "source": [
    "df_places_nearby = displayNearByPlaces(37.428433, -122.072381)\n",
    "df_places_nearby.shape"
   ]
  },
  {
   "cell_type": "code",
   "execution_count": 52,
   "metadata": {},
   "outputs": [
    {
     "data": {
      "text/html": [
       "<div>\n",
       "<style scoped>\n",
       "    .dataframe tbody tr th:only-of-type {\n",
       "        vertical-align: middle;\n",
       "    }\n",
       "\n",
       "    .dataframe tbody tr th {\n",
       "        vertical-align: top;\n",
       "    }\n",
       "\n",
       "    .dataframe thead th {\n",
       "        text-align: right;\n",
       "    }\n",
       "</style>\n",
       "<table border=\"1\" class=\"dataframe\">\n",
       "  <thead>\n",
       "    <tr style=\"text-align: right;\">\n",
       "      <th></th>\n",
       "      <th>name</th>\n",
       "      <th>gPlusPlaceId</th>\n",
       "      <th>latitude</th>\n",
       "      <th>longitude</th>\n",
       "      <th>rating</th>\n",
       "    </tr>\n",
       "  </thead>\n",
       "  <tbody>\n",
       "    <tr>\n",
       "      <th>0</th>\n",
       "      <td>b'Merry Maids'</td>\n",
       "      <td>116167008685876949080</td>\n",
       "      <td>37.428433</td>\n",
       "      <td>-122.072381</td>\n",
       "      <td>4.000000</td>\n",
       "    </tr>\n",
       "    <tr>\n",
       "      <th>2553</th>\n",
       "      <td>b'Artxit.com'</td>\n",
       "      <td>102776183318036815589</td>\n",
       "      <td>37.428434</td>\n",
       "      <td>-122.072382</td>\n",
       "      <td>5.000000</td>\n",
       "    </tr>\n",
       "    <tr>\n",
       "      <th>3418</th>\n",
       "      <td>b'Beta C Cafe'</td>\n",
       "      <td>103381098624365561749</td>\n",
       "      <td>37.426028</td>\n",
       "      <td>-122.072124</td>\n",
       "      <td>3.000000</td>\n",
       "    </tr>\n",
       "    <tr>\n",
       "      <th>4110</th>\n",
       "      <td>b'Google Incorporated'</td>\n",
       "      <td>117034990325326364615</td>\n",
       "      <td>37.426961</td>\n",
       "      <td>-122.071136</td>\n",
       "      <td>4.230769</td>\n",
       "    </tr>\n",
       "    <tr>\n",
       "      <th>4714</th>\n",
       "      <td>b'Symantec Corporation'</td>\n",
       "      <td>107180731685776764366</td>\n",
       "      <td>37.428434</td>\n",
       "      <td>-122.072382</td>\n",
       "      <td>3.800000</td>\n",
       "    </tr>\n",
       "    <tr>\n",
       "      <th>6664</th>\n",
       "      <td>b'AV Pros'</td>\n",
       "      <td>106599883560510538576</td>\n",
       "      <td>37.428433</td>\n",
       "      <td>-122.072381</td>\n",
       "      <td>5.000000</td>\n",
       "    </tr>\n",
       "    <tr>\n",
       "      <th>7398</th>\n",
       "      <td>b'Baadal Cafe'</td>\n",
       "      <td>108240171159839146834</td>\n",
       "      <td>37.426895</td>\n",
       "      <td>-122.070841</td>\n",
       "      <td>4.333333</td>\n",
       "    </tr>\n",
       "  </tbody>\n",
       "</table>\n",
       "</div>"
      ],
      "text/plain": [
       "                         name           gPlusPlaceId   latitude   longitude  \\\n",
       "0              b'Merry Maids'  116167008685876949080  37.428433 -122.072381   \n",
       "2553            b'Artxit.com'  102776183318036815589  37.428434 -122.072382   \n",
       "3418           b'Beta C Cafe'  103381098624365561749  37.426028 -122.072124   \n",
       "4110   b'Google Incorporated'  117034990325326364615  37.426961 -122.071136   \n",
       "4714  b'Symantec Corporation'  107180731685776764366  37.428434 -122.072382   \n",
       "6664               b'AV Pros'  106599883560510538576  37.428433 -122.072381   \n",
       "7398           b'Baadal Cafe'  108240171159839146834  37.426895 -122.070841   \n",
       "\n",
       "        rating  \n",
       "0     4.000000  \n",
       "2553  5.000000  \n",
       "3418  3.000000  \n",
       "4110  4.230769  \n",
       "4714  3.800000  \n",
       "6664  5.000000  \n",
       "7398  4.333333  "
      ]
     },
     "execution_count": 52,
     "metadata": {},
     "output_type": "execute_result"
    }
   ],
   "source": [
    "df_places_nearby"
   ]
  },
  {
   "cell_type": "code",
   "execution_count": null,
   "metadata": {},
   "outputs": [],
   "source": []
  }
 ],
 "metadata": {
  "kernelspec": {
   "display_name": "Python 3",
   "language": "python",
   "name": "python3"
  },
  "language_info": {
   "codemirror_mode": {
    "name": "ipython",
    "version": 3
   },
   "file_extension": ".py",
   "mimetype": "text/x-python",
   "name": "python",
   "nbconvert_exporter": "python",
   "pygments_lexer": "ipython3",
   "version": "3.7.1"
  }
 },
 "nbformat": 4,
 "nbformat_minor": 2
}
