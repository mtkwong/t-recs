{
 "cells": [
  {
   "cell_type": "code",
   "execution_count": 8,
   "metadata": {},
   "outputs": [
    {
     "name": "stdout",
     "output_type": "stream",
     "text": [
      "{'rating': 3.0, 'reviewerName': 'an lam', 'reviewText': 'Chất lượng tạm ổn', 'categories': ['Giải Trí - Café'], 'gPlusPlaceId': '108103314380004200232', 'unixReviewTime': 1372686659, 'reviewTime': 'Jul 1, 2013', 'gPlusUserId': '100000010817154263736'}\n",
      "{'rating': 5.0, 'reviewerName': 'HALİL TURGUT', 'reviewText': 'Wc si temiz duzenli..', 'categories': ['Turkish Cuisine'], 'gPlusPlaceId': '102194128241608748649', 'unixReviewTime': 1342870724, 'reviewTime': 'Jul 21, 2012', 'gPlusUserId': '100000013500285534661'}\n",
      "{'rating': 5.0, 'reviewerName': '森田さとこ', 'reviewText': '何回も私は予定に休みがセルバに行ったので覚えて見て、分かります❗', 'categories': ['Fishing', 'Pond Fish Supplier', 'Seafood Market'], 'gPlusPlaceId': '101409858828175402384', 'unixReviewTime': 1390653513, 'reviewTime': 'Jan 25, 2014', 'gPlusUserId': '100000021336848867366'}\n",
      "{'rating': 5.0, 'reviewerName': '森田さとこ', 'reviewText': '今度は予定に休みが登米市に行きたい❗☀😅🌌 楽しいに日帰りに登米の見学の観光(*^)(*^-^*)ゞ', 'categories': ['Museum'], 'gPlusPlaceId': '101477177500158511502', 'unixReviewTime': 1389187706, 'reviewTime': 'Jan 8, 2014', 'gPlusUserId': '100000021336848867366'}\n",
      "{'rating': 4.0, 'reviewerName': '森田さとこ', 'reviewText': '気仙沼警察署に移転中に絆 👮🐎☺🙋🚓頑張ろう❗', 'categories': ['Police'], 'gPlusPlaceId': '106994170641063333085', 'unixReviewTime': 1390486279, 'reviewTime': 'Jan 23, 2014', 'gPlusUserId': '100000021336848867366'}\n"
     ]
    }
   ],
   "source": [
    "import csv\n",
    "import ast\n",
    "import json\n",
    "\n",
    "csvOpen = open(\"places.csv\",'w',encoding='utf8',newline='')\n",
    "file = csv.writer(csvOpen)\n",
    "file.writerow(['gPlusPlaceId','gPlusUserId','rating'])\n",
    "f = open('reviews.clean.json','r')\n",
    "for i in f.readlines()[:5]:\n",
    "    a = ast.literal_eval(i)\n",
    "    gPlusPlaceId = a['gPlusPlaceId']\n",
    "    gPlusUserId = a['gPlusUserId']\n",
    "    rating = a['rating']\n",
    "    file.writerow([str(gPlusPlaceId)+'\\t',str(gPlusUserId)+'\\t',rating])\n",
    "    print(a)\n",
    "f.close()"
   ]
  },
  {
   "cell_type": "code",
   "execution_count": 5,
   "metadata": {},
   "outputs": [
    {
     "name": "stdout",
     "output_type": "stream",
     "text": [
      "{\n",
      "    \"categories\":[\n",
      "        \"Giải Trí - Café\"\n",
      "    ],\n",
      "    \"gPlusPlaceId\":\"108103314380004200232\",\n",
      "    \"gPlusUserId\":\"100000010817154263736\",\n",
      "    \"rating\":3.0,\n",
      "    \"reviewText\":\"Chất lượng tạm ổn\",\n",
      "    \"reviewTime\":\"Jul 1, 2013\",\n",
      "    \"reviewerName\":\"an lam\",\n",
      "    \"unixReviewTime\":1372686659\n",
      "}\n",
      "{\n",
      "    \"categories\":[\n",
      "        \"Turkish Cuisine\"\n",
      "    ],\n",
      "    \"gPlusPlaceId\":\"102194128241608748649\",\n",
      "    \"gPlusUserId\":\"100000013500285534661\",\n",
      "    \"rating\":5.0,\n",
      "    \"reviewText\":\"Wc si temiz duzenli..\",\n",
      "    \"reviewTime\":\"Jul 21, 2012\",\n",
      "    \"reviewerName\":\"HALİL TURGUT\",\n",
      "    \"unixReviewTime\":1342870724\n",
      "}\n",
      "{\n",
      "    \"categories\":[\n",
      "        \"Fishing\",\n",
      "        \"Pond Fish Supplier\",\n",
      "        \"Seafood Market\"\n",
      "    ],\n",
      "    \"gPlusPlaceId\":\"101409858828175402384\",\n",
      "    \"gPlusUserId\":\"100000021336848867366\",\n",
      "    \"rating\":5.0,\n",
      "    \"reviewText\":\"何回も私は予定に休みがセルバに行ったので覚えて見て、分かります❗\",\n",
      "    \"reviewTime\":\"Jan 25, 2014\",\n",
      "    \"reviewerName\":\"森田さとこ\",\n",
      "    \"unixReviewTime\":1390653513\n",
      "}\n",
      "{\n",
      "    \"categories\":[\n",
      "        \"Museum\"\n",
      "    ],\n",
      "    \"gPlusPlaceId\":\"101477177500158511502\",\n",
      "    \"gPlusUserId\":\"100000021336848867366\",\n",
      "    \"rating\":5.0,\n",
      "    \"reviewText\":\"今度は予定に休みが登米市に行きたい❗☀😅🌌 楽しいに日帰りに登米の見学の観光(*^)(*^-^*)ゞ\",\n",
      "    \"reviewTime\":\"Jan 8, 2014\",\n",
      "    \"reviewerName\":\"森田さとこ\",\n",
      "    \"unixReviewTime\":1389187706\n",
      "}\n",
      "{\n",
      "    \"categories\":[\n",
      "        \"Police\"\n",
      "    ],\n",
      "    \"gPlusPlaceId\":\"106994170641063333085\",\n",
      "    \"gPlusUserId\":\"100000021336848867366\",\n",
      "    \"rating\":4.0,\n",
      "    \"reviewText\":\"気仙沼警察署に移転中に絆 👮🐎☺🙋🚓頑張ろう❗\",\n",
      "    \"reviewTime\":\"Jan 23, 2014\",\n",
      "    \"reviewerName\":\"森田さとこ\",\n",
      "    \"unixReviewTime\":1390486279\n",
      "}\n"
     ]
    }
   ],
   "source": [
    "f = open('reviews.clean.json','r')\n",
    "for i in f.readlines()[:5]:\n",
    "    a = ast.literal_eval(i)\n",
    "##ensure_ascii=False to handle unicode format problem\n",
    "    js = json.dumps(a, sort_keys=True, indent=4, separators=(',', ':'),ensure_ascii=False)\n",
    "    print(js)\n",
    "f.close()"
   ]
  },
  {
   "cell_type": "code",
   "execution_count": null,
   "metadata": {
    "collapsed": true
   },
   "outputs": [],
   "source": []
  }
 ],
 "metadata": {
  "kernelspec": {
   "display_name": "Python 3",
   "language": "python",
   "name": "python3"
  },
  "language_info": {
   "codemirror_mode": {
    "name": "ipython",
    "version": 3
   },
   "file_extension": ".py",
   "mimetype": "text/x-python",
   "name": "python",
   "nbconvert_exporter": "python",
   "pygments_lexer": "ipython3",
   "version": "3.6.5"
  }
 },
 "nbformat": 4,
 "nbformat_minor": 2
}
