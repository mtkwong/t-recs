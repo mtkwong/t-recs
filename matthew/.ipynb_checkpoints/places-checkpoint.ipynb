{
 "cells": [
  {
   "cell_type": "code",
   "execution_count": 9,
   "metadata": {},
   "outputs": [
    {
     "name": "stdout",
     "output_type": "stream",
     "text": [
      "done\n"
     ]
    }
   ],
   "source": [
    "import numpy as np\n",
    "import pandas as pd\n",
    "import time as tm\n",
    "import datetime as dt\n",
    "import csv\n",
    "import ast\n",
    "import json\n",
    "\n",
    "placesCsvPath = 'places.csv'\n",
    "df_places = pd.read_csv(placesCsvPath, sep='\\t')\n",
    "#print(df_places.head())\n",
    "\n",
    "print('done')"
   ]
  },
  {
   "cell_type": "code",
   "execution_count": 20,
   "metadata": {},
   "outputs": [
    {
     "name": "stdout",
     "output_type": "stream",
     "text": [
      "b'2615 Angler Ave,Hemet, CA 92545'\n",
      "b'Parole,Annapolis, MD'\n",
      "b'\\xd1\\x83\\xd0\\xbb. \\xd0\\xa2\\xd1\\x83\\xd1\\x82\\xd0\\xb0\\xd0\\xb5\\xd0\\xb2\\xd0\\xb0, 1,Nazran, Ingushetia, Russia,366720'\n",
      "b'5322 W 26th St,Sioux Falls, SD 57106'\n",
      "b'Jl. Angkatan 45,Kompleks Palembang Square,South Sumatra 30137, Indonesia'\n",
      "b'Stuttgarter Stra\\xc3\\x9fe 44,75378 Bad Liebenzell,Germany'\n",
      "b'2033 W Oklahoma Ave,Ulysses, KS 67880'\n",
      "b'Jalan Demak,Petra Jaya,Kuching, Sarawak, Malaysia'\n",
      "b'208 Yumotochaya,Hakone, Ashigarashimo District, Kanagawa 250-0312,Japan'\n",
      "b'17960 NW Evergreen Pkwy,Beaverton, OR 97006'\n",
      "done\n"
     ]
    }
   ],
   "source": [
    "country = []\n",
    "for i in df_places['address'][:10]:\n",
    "    # TODO: need to remove last entry if it's a zip code (e.g. #3 Russia below)\n",
    "    a = i.split(',')[-1][:-1]\n",
    "    b = ''.join(i for i in a if not i.isdigit())\n",
    "    c = b.strip()\n",
    "    print(i)\n",
    "\n",
    "#df_places['country'] = country\n",
    "#print(df_places['country'][:100])\n",
    "\n",
    "print('done')"
   ]
  },
  {
   "cell_type": "code",
   "execution_count": null,
   "metadata": {
    "collapsed": true
   },
   "outputs": [],
   "source": []
  }
 ],
 "metadata": {
  "kernelspec": {
   "display_name": "Python 3",
   "language": "python",
   "name": "python3"
  },
  "language_info": {
   "codemirror_mode": {
    "name": "ipython",
    "version": 3
   },
   "file_extension": ".py",
   "mimetype": "text/x-python",
   "name": "python",
   "nbconvert_exporter": "python",
   "pygments_lexer": "ipython3",
   "version": "3.6.5"
  }
 },
 "nbformat": 4,
 "nbformat_minor": 2
}
