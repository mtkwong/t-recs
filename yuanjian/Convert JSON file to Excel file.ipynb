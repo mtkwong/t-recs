{
 "cells": [
  {
   "cell_type": "code",
   "execution_count": 1,
   "metadata": {},
   "outputs": [],
   "source": [
    "import json\n",
    "import ast\n",
    "import csv\n",
    "import pandas as pd"
   ]
  },
  {
   "cell_type": "markdown",
   "metadata": {},
   "source": [
    "# Extract reviews data"
   ]
  },
  {
   "cell_type": "code",
   "execution_count": 18,
   "metadata": {},
   "outputs": [
    {
     "name": "stdout",
     "output_type": "stream",
     "text": [
      "11453845\n"
     ]
    }
   ],
   "source": [
    "csvOpen = open(\"reviews.csv\",'w',encoding='utf-8', newline='')\n",
    "file = csv.writer(csvOpen)\n",
    "file.writerow(['gPlusPlaceId','gPlusUserId','rating','unixReviewTime'])\n",
    "f = open('reviews.clean.json','r')\n",
    "num = 0\n",
    "for i in f.readlines():\n",
    "    a = ast.literal_eval(i)\n",
    "    gPlusPlaceId = a['gPlusPlaceId']\n",
    "    gPlusUserId = a['gPlusUserId']\n",
    "    rating = a['rating']\n",
    "    unixReviewTime = a['unixReviewTime']\n",
    "    file.writerow([str(gPlusPlaceId), str(gPlusUserId), rating, str(unixReviewTime)])\n",
    "    num = num + 1\n",
    "f.close()\n",
    "csvOpen.close()\n",
    "print(num)"
   ]
  },
  {
   "cell_type": "code",
   "execution_count": 26,
   "metadata": {},
   "outputs": [
    {
     "data": {
      "text/html": [
       "<div>\n",
       "<style scoped>\n",
       "    .dataframe tbody tr th:only-of-type {\n",
       "        vertical-align: middle;\n",
       "    }\n",
       "\n",
       "    .dataframe tbody tr th {\n",
       "        vertical-align: top;\n",
       "    }\n",
       "\n",
       "    .dataframe thead th {\n",
       "        text-align: right;\n",
       "    }\n",
       "</style>\n",
       "<table border=\"1\" class=\"dataframe\">\n",
       "  <thead>\n",
       "    <tr style=\"text-align: right;\">\n",
       "      <th></th>\n",
       "      <th>gPlusUserId</th>\n",
       "      <th>rating</th>\n",
       "    </tr>\n",
       "  </thead>\n",
       "  <tbody>\n",
       "    <tr>\n",
       "      <th>188654</th>\n",
       "      <td>100689039355298728862</td>\n",
       "      <td>3221</td>\n",
       "    </tr>\n",
       "    <tr>\n",
       "      <th>1209677</th>\n",
       "      <td>104417221245966072319</td>\n",
       "      <td>2635</td>\n",
       "    </tr>\n",
       "    <tr>\n",
       "      <th>1822767</th>\n",
       "      <td>106654503918907830147</td>\n",
       "      <td>2562</td>\n",
       "    </tr>\n",
       "    <tr>\n",
       "      <th>941083</th>\n",
       "      <td>103436029082236296415</td>\n",
       "      <td>1625</td>\n",
       "    </tr>\n",
       "    <tr>\n",
       "      <th>3271030</th>\n",
       "      <td>111937447827665620879</td>\n",
       "      <td>1604</td>\n",
       "    </tr>\n",
       "    <tr>\n",
       "      <th>1319866</th>\n",
       "      <td>104819208193648646391</td>\n",
       "      <td>1526</td>\n",
       "    </tr>\n",
       "    <tr>\n",
       "      <th>4132295</th>\n",
       "      <td>115082761597075271038</td>\n",
       "      <td>1406</td>\n",
       "    </tr>\n",
       "    <tr>\n",
       "      <th>4637294</th>\n",
       "      <td>116925116332960548099</td>\n",
       "      <td>1379</td>\n",
       "    </tr>\n",
       "    <tr>\n",
       "      <th>3516607</th>\n",
       "      <td>112831602990588286173</td>\n",
       "      <td>1301</td>\n",
       "    </tr>\n",
       "    <tr>\n",
       "      <th>4677515</th>\n",
       "      <td>117072475110846017004</td>\n",
       "      <td>1271</td>\n",
       "    </tr>\n",
       "  </tbody>\n",
       "</table>\n",
       "</div>"
      ],
      "text/plain": [
       "                   gPlusUserId  rating\n",
       "188654   100689039355298728862    3221\n",
       "1209677  104417221245966072319    2635\n",
       "1822767  106654503918907830147    2562\n",
       "941083   103436029082236296415    1625\n",
       "3271030  111937447827665620879    1604\n",
       "1319866  104819208193648646391    1526\n",
       "4132295  115082761597075271038    1406\n",
       "4637294  116925116332960548099    1379\n",
       "3516607  112831602990588286173    1301\n",
       "4677515  117072475110846017004    1271"
      ]
     },
     "execution_count": 26,
     "metadata": {},
     "output_type": "execute_result"
    }
   ],
   "source": [
    "df = pd.read_csv('reviews.csv', sep=',')\n",
    "#print(df.head())\n",
    "#print(df.shape)\n",
    "df.groupby('gPlusUserId')['rating'].count().reset_index().sort_values('rating',ascending=False)[:10]"
   ]
  },
  {
   "cell_type": "markdown",
   "metadata": {},
   "source": [
    "# Extract categaries value for one-hot encoding"
   ]
  },
  {
   "cell_type": "code",
   "execution_count": 12,
   "metadata": {},
   "outputs": [
    {
     "name": "stdout",
     "output_type": "stream",
     "text": [
      "17968739\n"
     ]
    }
   ],
   "source": [
    "csvOpen = open(\"reviews_categaries.csv\",'w',encoding='utf-8', newline='')\n",
    "file = csv.writer(csvOpen)\n",
    "file.writerow(['gPlusPlaceId','categaries'])\n",
    "f = open('reviews.clean.json','r')\n",
    "num = 0\n",
    "for i in f.readlines():\n",
    "    a = ast.literal_eval(i)\n",
    "    gPlusPlaceId = a['gPlusPlaceId']\n",
    "    if(a['categories'] is None):\n",
    "        categories = 'None'\n",
    "    else:\n",
    "        for index in a['categories']:\n",
    "            #print(index)\n",
    "            file.writerow([str(gPlusPlaceId), str(index)])\n",
    "            num = num + 1\n",
    "f.close()\n",
    "csvOpen.close()\n",
    "print(num)"
   ]
  },
  {
   "cell_type": "code",
   "execution_count": 11,
   "metadata": {},
   "outputs": [
    {
     "name": "stdout",
     "output_type": "stream",
     "text": [
      "            gPlusPlaceId          categaries\n",
      "0  108103314380004200232     Giải Trí - Café\n",
      "1  102194128241608748649     Turkish Cuisine\n",
      "2  101409858828175402384             Fishing\n",
      "3  101409858828175402384  Pond Fish Supplier\n",
      "4  101409858828175402384      Seafood Market\n"
     ]
    }
   ],
   "source": [
    "df = pd.read_csv('reviews_categaries.csv', sep=',')\n",
    "print(df.head())"
   ]
  },
  {
   "cell_type": "markdown",
   "metadata": {},
   "source": [
    "# Extract user data"
   ]
  },
  {
   "cell_type": "code",
   "execution_count": 28,
   "metadata": {},
   "outputs": [
    {
     "name": "stdout",
     "output_type": "stream",
     "text": [
      "749941\n"
     ]
    }
   ],
   "source": [
    "csvOpen = open(\"userinfo.csv\",'w',encoding='utf-8', newline='')\n",
    "file = csv.writer(csvOpen)\n",
    "file.writerow(['gPlusUserId','currentPlace'])\n",
    "f = open('users.clean.json','r')\n",
    "num = 0\n",
    "for i in f.readlines():\n",
    "    a = ast.literal_eval(i)\n",
    "    gPlusUserId = a['gPlusUserId']\n",
    "    if(a['currentPlace'] is None):\n",
    "        continue\n",
    "    elif ('San Jose' in a['currentPlace'][0] or \n",
    "            'Campbell' in a['currentPlace'][0] or \n",
    "            'Cupertino' in a['currentPlace'][0] or \n",
    "            'Gilroy' in a['currentPlace'][0] or \n",
    "            'Los Altos' in a['currentPlace'][0] or \n",
    "            'Los Altos Hills' in a['currentPlace'][0] or \n",
    "            'Los Gatos' in a['currentPlace'][0] or \n",
    "            'Milpitas' in a['currentPlace'][0] or \n",
    "            'Monte Sereno' in a['currentPlace'][0] or \n",
    "            'Morgan Hill' in a['currentPlace'][0] or \n",
    "            'Mountain View' in a['currentPlace'][0] or \n",
    "            'Palo Alto' in a['currentPlace'][0] or \n",
    "            'Santa Clara' in a['currentPlace'][0] or\n",
    "            'Saratoga' in a['currentPlace'][0] or\n",
    "            'Sunnyvale' in a['currentPlace'][0]):\n",
    "        currentPlace = a['currentPlace'][0]\n",
    "        file.writerow([str(gPlusUserId), str(currentPlace)])\n",
    "    num = num + 1\n",
    "f.close()\n",
    "csvOpen.close()\n",
    "print(num)"
   ]
  },
  {
   "cell_type": "code",
   "execution_count": 3,
   "metadata": {},
   "outputs": [
    {
     "name": "stdout",
     "output_type": "stream",
     "text": [
      "             gPlusUserId   currentPlace\n",
      "0  100002460517064340398      Sunnyvale\n",
      "1  100003840837471130074  Sunnyvale, CA\n",
      "2  100006029944244477735   Campbell, CA\n",
      "3  100006742151940031092      Palo Alto\n",
      "4  100008858224190919909      Palo Alto\n"
     ]
    }
   ],
   "source": [
    "df = pd.read_csv('userinfo.csv', sep=',')\n",
    "print(df.head())"
   ]
  }
 ],
 "metadata": {
  "kernelspec": {
   "display_name": "Python 3",
   "language": "python",
   "name": "python3"
  },
  "language_info": {
   "codemirror_mode": {
    "name": "ipython",
    "version": 3
   },
   "file_extension": ".py",
   "mimetype": "text/x-python",
   "name": "python",
   "nbconvert_exporter": "python",
   "pygments_lexer": "ipython3",
   "version": "3.7.1"
  }
 },
 "nbformat": 4,
 "nbformat_minor": 2
}
